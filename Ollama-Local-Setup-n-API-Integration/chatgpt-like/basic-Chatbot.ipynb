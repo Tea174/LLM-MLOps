{
 "cells": [
  {
   "cell_type": "code",
   "id": "initial_id",
   "metadata": {
    "collapsed": true,
    "ExecuteTime": {
     "end_time": "2025-10-18T19:20:45.558946Z",
     "start_time": "2025-10-18T19:20:40.287088Z"
    }
   },
   "source": [
    "import requests\n",
    "import os\n",
    "from dotenv import load_dotenv\n",
    "\n",
    "load_dotenv()\n",
    "API_URL = \"https://api-inference.huggingface.co/models/meta-llama/Llama-2-7b-chat-hf\"\n",
    "API_TOKEN = os.getenv(\"HF_TOKEN\")\n",
    "\n",
    "headers = {\"Authorization\": f\"Bearer {API_TOKEN}\"}\n",
    "\n",
    "def query_llm(question):\n",
    "    \"\"\"Send a question to the LLM and get a response\"\"\"\n",
    "    payload = {\n",
    "        \"inputs\": question,\n",
    "        \"parameters\": {\n",
    "            \"max_new_tokens\": 250,\n",
    "            \"temperature\": 0.7\n",
    "        }\n",
    "    }\n",
    "\n",
    "    response = requests.post(API_URL, headers=headers, json=payload)\n",
    "\n",
    "    if response.status_code == 200:\n",
    "        return response.json()[0]['generated_text']\n",
    "    else:\n",
    "        return f\"Error: {response.status_code}\"\n",
    "\n",
    "# Main chatbot loop\n",
    "print(\"Welcome to the ChatBot! Type 'quit' to exit.\\n\")\n",
    "\n",
    "while True:\n",
    "    user_input = input(\"You: \")\n",
    "\n",
    "    if user_input.lower() in ['quit', 'exit']:\n",
    "        print(\"Goodbye!\")\n",
    "        break\n",
    "\n",
    "    response = query_llm(user_input)\n",
    "    print(f\"\\nBot: {response}\\n\")"
   ],
   "outputs": [
    {
     "name": "stdout",
     "output_type": "stream",
     "text": [
      "Welcome to the ChatBot! Type 'quit' to exit.\n",
      "\n",
      "Goodbye!\n"
     ]
    }
   ],
   "execution_count": 4
  }
 ],
 "metadata": {
  "kernelspec": {
   "display_name": "Python 3",
   "language": "python",
   "name": "python3"
  },
  "language_info": {
   "codemirror_mode": {
    "name": "ipython",
    "version": 2
   },
   "file_extension": ".py",
   "mimetype": "text/x-python",
   "name": "python",
   "nbconvert_exporter": "python",
   "pygments_lexer": "ipython2",
   "version": "2.7.6"
  }
 },
 "nbformat": 4,
 "nbformat_minor": 5
}
